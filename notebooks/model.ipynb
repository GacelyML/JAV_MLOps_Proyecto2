{
 "cells": [
  {
   "cell_type": "code",
   "execution_count": null,
   "metadata": {},
   "outputs": [],
   "source": [
    "import pandas as pd\n",
    "from sklearn.preprocessing import StandardScaler, OrdinalEncoder, StandardScaler\n",
    "from sklearn.compose import ColumnTransformer\n",
    "from sklearn.pipeline import Pipeline\n",
    "from sklearn.ensemble import HistGradientBoostingClassifier\n",
    "import mlflow"
   ]
  },
  {
   "cell_type": "code",
   "execution_count": null,
   "metadata": {},
   "outputs": [],
   "source": [
    "# read dataframe and set column names\n",
    "DATA_DIR = \"../data/covertype.csv\"\n",
    "column_names = ['Elevation', 'Aspect', 'Slope', 'Horizontal_Distance_To_Hydrology', 'Vertical_Distance_To_Hydrology', 'Horizontal_Distance_To_Roadways', 'Hillshade_9am', 'Hillshade_Noon', 'Hillshade_3pm', 'Horizontal_Distance_To_Fire_Points', 'Wilderness_Area', 'Soil_Type', 'Cover_Type']\n",
    "data = pd.read_csv(DATA_DIR, names=column_names, header=None)\n",
    "# drop data duplicates\n",
    "data.drop_duplicates(inplace=True, ignore_index=True)\n",
    "# show data sample\n",
    "data.head()"
   ]
  },
  {
   "cell_type": "code",
   "execution_count": null,
   "metadata": {},
   "outputs": [],
   "source": [
    "# store target variable as vector y\n",
    "target_variable = \"Cover_Type\"\n",
    "y = data[target_variable]\n",
    "# set input variables X as original data minus target variable and categorical features\n",
    "X = data.drop(columns=[target_variable])\n",
    "# transform variables to improve model performance\n",
    "categorical_variables = ['Wilderness_Area', 'Soil_Type']\n",
    "numerical_variables = [feature for feature in X.columns if feature not in categorical_variables]\n",
    "preprocessor = ColumnTransformer(\n",
    "    transformers=[\n",
    "        ('categorical', OrdinalEncoder(), categorical_variables),\n",
    "        ('numerical', StandardScaler(), numerical_variables)\n",
    "    ]\n",
    ")"
   ]
  },
  {
   "cell_type": "code",
   "execution_count": null,
   "metadata": {},
   "outputs": [],
   "source": [
    "# define classifier as gradient boost machine and ensemble with preprocessor\n",
    "classifier = HistGradientBoostingClassifier(categorical_features=[0, 1])\n",
    "model = Pipeline(steps=[\n",
    "    ('preprocess', preprocessor),\n",
    "    ('classifier', classifier)\n",
    "])"
   ]
  },
  {
   "cell_type": "code",
   "execution_count": null,
   "metadata": {},
   "outputs": [],
   "source": [
    "import os\n",
    "\n",
    "# set minio environment variables\n",
    "os.environ['MLFLOW_S3_ENDPOINT_URL'] = \"http://10.43.101.154:8081\"\n",
    "os.environ['AWS_ACCESS_KEY_ID'] = 'minio_user'\n",
    "os.environ['AWS_SECRET_ACCESS_KEY'] = 'minio_pwd'\n",
    "\n",
    "# connect to mlflow\n",
    "mlflow.set_tracking_uri(\"http://10.43.101.154:8083\")\n",
    "mlflow.set_experiment(\"gradient_boosting_covertype\")\n",
    "mlflow.sklearn.autolog(log_model_signatures=True, log_input_examples=True, registered_model_name=\"final_model\")\n",
    "\n",
    "# mlflow run\n",
    "with mlflow.start_run(run_name=\"gradient_boosting_training\", desc=\"Train gradient boosting model\") as run:\n",
    "    # fit model to data\n",
    "    model.fit(X, y)"
   ]
  }
 ],
 "metadata": {
  "kernelspec": {
   "display_name": "Python 3",
   "language": "python",
   "name": "python3"
  },
  "language_info": {
   "codemirror_mode": {
    "name": "ipython",
    "version": 3
   },
   "file_extension": ".py",
   "mimetype": "text/x-python",
   "name": "python",
   "nbconvert_exporter": "python",
   "pygments_lexer": "ipython3",
   "version": "3.12.1"
  }
 },
 "nbformat": 4,
 "nbformat_minor": 2
}
